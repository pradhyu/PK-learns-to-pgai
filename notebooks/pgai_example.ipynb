{
 "cells": [
  {
   "cell_type": "markdown",
   "id": "94e3b4dd",
   "metadata": {},
   "source": [
    "# Using pgai, pgvector, and Jupyter Notebook\n",
    "\n",
    "This notebook demonstrates how to interact with pgai and PostgreSQL with pgvector and pgvectorscale extensions. You'll learn how to create vector tables, insert embeddings, and perform vector search operations."
   ]
  },
  {
   "cell_type": "code",
   "execution_count": null,
   "id": "1bd72b05",
   "metadata": {},
   "outputs": [],
   "source": [
    "# Install required libraries if not already installed\n",
    "!pip install psycopg2-binary requests"
   ]
  },
  {
   "cell_type": "code",
   "execution_count": null,
   "id": "92192490",
   "metadata": {},
   "outputs": [],
   "source": [
    "import psycopg2\n",
    "\n",
    "# Connect to PostgreSQL\n",
    "conn = psycopg2.connect(\n",
    "    dbname=\"pgai_db\",\n",
    "    user=\"pgai\",\n",
    "    password=\"pgai_pass\",\n",
    "    host=\"postgres\"\n",
    ")\n",
    "cur = conn.cursor()\n",
    "\n",
    "# Create table for vectors\n",
    "cur.execute(\"\"\"\n",
    "CREATE TABLE IF NOT EXISTS items (\n",
    "    id SERIAL PRIMARY KEY,\n",
    "    embedding vector(3),\n",
    "    description TEXT\n",
    ");\n",
    "\"\"\")\n",
    "conn.commit()\n",
    "\n",
    "# Insert sample embeddings\n",
    "cur.execute(\"\"\"\n",
    "INSERT INTO items (embedding, description) VALUES\n",
    "    ('[0.1, 0.2, 0.3]', 'First item'),\n",
    "    ('[0.4, 0.5, 0.6]', 'Second item')\n",
    "ON CONFLICT DO NOTHING;\n",
    "\"\"\")\n",
    "conn.commit()\n",
    "print(\"Table created and sample embeddings inserted.\")"
   ]
  },
  {
   "cell_type": "code",
   "execution_count": null,
   "id": "db8df50d",
   "metadata": {},
   "outputs": [],
   "source": [
    "# Query embeddings from the table\n",
    "cur.execute(\"SELECT id, embedding, description FROM items;\")\n",
    "rows = cur.fetchall()\n",
    "for row in rows:\n",
    "    print(f\"ID: {row[0]}, Embedding: {row[1]}, Description: {row[2]}\")"
   ]
  },
  {
   "cell_type": "code",
   "execution_count": null,
   "id": "8120bf2b",
   "metadata": {},
   "outputs": [],
   "source": [
    "import requests\n",
    "\n",
    "# Example: Search for similar vectors using pgai API\n",
    "search_vector = [0.1, 0.2, 0.3]\n",
    "response = requests.post(\n",
    "    \"http://localhost:8080/search\",\n",
    "    json={\"vector\": search_vector, \"top_k\": 2}\n",
    ")\n",
    "print(\"pgai search response:\", response.json())"
   ]
  },
  {
   "cell_type": "markdown",
   "id": "1282ab28",
   "metadata": {},
   "source": [
    "## Summary\n",
    "\n",
    "- You have started PostgreSQL with pgvector and pgvectorscale, pgai, and Jupyter Notebook using Docker Compose.\n",
    "- You created a vectors table and inserted sample embeddings.\n",
    "- You queried embeddings and performed a vector search using pgai API.\n",
    "\n",
    "You can now experiment with different embeddings, vector sizes, and search queries using this setup."
   ]
  }
 ],
 "metadata": {
  "language_info": {
   "name": "python"
  }
 },
 "nbformat": 4,
 "nbformat_minor": 5
}
